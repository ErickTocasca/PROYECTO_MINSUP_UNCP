{
 "cells": [
  {
   "cell_type": "markdown",
   "metadata": {},
   "source": [
    "# MEDIDAS BÁSICAS DE LA ESTADÍSTICA DESCRIPTIVA"
   ]
  },
  {
   "cell_type": "code",
   "execution_count": 1,
   "metadata": {},
   "outputs": [],
   "source": [
    "import pandas as pd\n",
    "import numpy as np"
   ]
  },
  {
   "cell_type": "markdown",
   "metadata": {},
   "source": [
    "## 1. Medidas de centralización\n",
    "\n",
    "Nos sirve para ver cómo se sitúan los datos. Estos son la **media, mediana, percentiles y moda.**"
   ]
  },
  {
   "cell_type": "code",
   "execution_count": 3,
   "metadata": {},
   "outputs": [
    {
     "data": {
      "text/plain": [
       "[864,\n",
       " 394,\n",
       " 776,\n",
       " 911,\n",
       " 430,\n",
       " 41,\n",
       " 265,\n",
       " 988,\n",
       " 523,\n",
       " 497,\n",
       " 414,\n",
       " 940,\n",
       " 802,\n",
       " 849,\n",
       " 310,\n",
       " 991,\n",
       " 488,\n",
       " 366,\n",
       " 597,\n",
       " 913,\n",
       " 929,\n",
       " 223,\n",
       " 516,\n",
       " 142,\n",
       " 288,\n",
       " 143,\n",
       " 773,\n",
       " 97,\n",
       " 633,\n",
       " 818,\n",
       " 256,\n",
       " 931,\n",
       " 545,\n",
       " 722,\n",
       " 829,\n",
       " 616,\n",
       " 923,\n",
       " 150,\n",
       " 317,\n",
       " 101,\n",
       " 747,\n",
       " 75,\n",
       " 920,\n",
       " 870,\n",
       " 700,\n",
       " 338,\n",
       " 483,\n",
       " 573,\n",
       " 103,\n",
       " 362,\n",
       " 444,\n",
       " 323,\n",
       " 625,\n",
       " 655,\n",
       " 934,\n",
       " 209,\n",
       " 989,\n",
       " 565,\n",
       " 453,\n",
       " 886]"
      ]
     },
     "execution_count": 3,
     "metadata": {},
     "output_type": "execute_result"
    }
   ],
   "source": [
    "# Generamos números aleatorios para el ejemplo\n",
    "import random \n",
    "random.seed(0)\n",
    "A = (random.sample(range(1000), 60))\n",
    "A"
   ]
  },
  {
   "cell_type": "code",
   "execution_count": 4,
   "metadata": {},
   "outputs": [
    {
     "data": {
      "text/plain": [
       "559.4166666666666"
      ]
     },
     "execution_count": 4,
     "metadata": {},
     "output_type": "execute_result"
    }
   ],
   "source": [
    "media = np.mean(A)\n",
    "media"
   ]
  },
  {
   "cell_type": "code",
   "execution_count": 5,
   "metadata": {},
   "outputs": [
    {
     "data": {
      "text/plain": [
       "555.0"
      ]
     },
     "execution_count": 5,
     "metadata": {},
     "output_type": "execute_result"
    }
   ],
   "source": [
    "mediana = np.median(A)\n",
    "mediana"
   ]
  },
  {
   "cell_type": "code",
   "execution_count": 7,
   "metadata": {},
   "outputs": [
    {
     "data": {
      "text/plain": [
       "ModeResult(mode=array([41]), count=array([1]))"
      ]
     },
     "execution_count": 7,
     "metadata": {},
     "output_type": "execute_result"
    }
   ],
   "source": [
    "from scipy import stats \n",
    "moda = stats.mode(A)\n",
    "moda"
   ]
  },
  {
   "cell_type": "code",
   "execution_count": 8,
   "metadata": {},
   "outputs": [
    {
     "data": {
      "text/plain": [
       "321.5"
      ]
     },
     "execution_count": 8,
     "metadata": {},
     "output_type": "execute_result"
    }
   ],
   "source": [
    "percentil_25 = np.percentile(A, 25)\n",
    "percentil_25"
   ]
  },
  {
   "cell_type": "markdown",
   "metadata": {},
   "source": [
    "## 2. Medidas de Dispersión\n",
    "\n",
    "La varianza y desviación típica, nos indica si los valores se desplazan mucho o poco con respecto de la media.\n",
    "\n",
    "**VARIANZA:** Es como se aleja cada valor de la media. La varianza eleva los valores al cuadrado… nos introduce en una nueva dimensión… puede no tener sentido.\n",
    "\n",
    "**DESVIACIÓN ESTANDAR:** Es la raíz cuadrada de la varianza. Con la desviación típica volvemos a la dimensión original.\n",
    "\n",
    "**COEFICIENTE DE VARIACIÓN:** Mide la variabilidad relativa entre la desviación típica y la media."
   ]
  },
  {
   "cell_type": "code",
   "execution_count": 9,
   "metadata": {},
   "outputs": [
    {
     "data": {
      "text/plain": [
       "82511.07638888889"
      ]
     },
     "execution_count": 9,
     "metadata": {},
     "output_type": "execute_result"
    }
   ],
   "source": [
    "varianza = np.var(A)\n",
    "varianza"
   ]
  },
  {
   "cell_type": "code",
   "execution_count": 10,
   "metadata": {},
   "outputs": [
    {
     "data": {
      "text/plain": [
       "287.2474131979066"
      ]
     },
     "execution_count": 10,
     "metadata": {},
     "output_type": "execute_result"
    }
   ],
   "source": [
    "desviacion_estandar = np.std(A)\n",
    "desviacion_estandar"
   ]
  },
  {
   "cell_type": "code",
   "execution_count": 11,
   "metadata": {},
   "outputs": [
    {
     "data": {
      "text/plain": [
       "51.34766808245016"
      ]
     },
     "execution_count": 11,
     "metadata": {},
     "output_type": "execute_result"
    }
   ],
   "source": [
    "# Coeficiente de variación desviacion_estandar/media*100\n",
    "# Si la variabilidad es grande el coeficiente será mayor.\n",
    "\n",
    "coeficiente_variacion = desviacion_estandar / media *100\n",
    "coeficiente_variacion"
   ]
  },
  {
   "cell_type": "markdown",
   "metadata": {},
   "source": [
    "## 3. Medidas de Asimetría \n",
    "\n",
    "Las medidas de asimetría son indicadores que permiten establecer el grado de simetría (o asimetría) que presenta una distribución de probabilidad de una variable aleatoria sin tener que hacer su representación gráfica. Como eje de simetría consideramos una recta paralela al eje de ordenadas que pasa por la media de la distribución. Si una distribución es simétrica, existe el mismo número de valores a la derecha que a la izquierda de la media, por tanto, el mismo número de desviaciones con signo positivo que con signo negativo. Decimos que hay asimetría positiva (o a la derecha) si la \"cola\" a la derecha de la media es más larga que la de la izquierda, es decir, si hay valores más separados de la media a la derecha. Diremos que hay asimetría negativa (o a la izquierda) si la \"cola\" a la izquierda de la media es más larga que la de la derecha, es decir, si hay valores más separados de la media a la izquierda."
   ]
  },
  {
   "cell_type": "markdown",
   "metadata": {},
   "source": [
    "### Coeficiente de asimetria de Fisher\n",
    "En teoría de la probabilidad y estadística, la medida de asimetría más utilizada parte del uso del tercer momento estándar. La razón de esto es que nos interesa mantener el signo de las desviaciones con respecto a la media, para obtener si son mayores las que ocurren a la derecha de la media que las de la izquierda. Sin embargo, no es buena idea tomar el momento estándar con respecto a la media de orden 1. Debido a que una simple suma de todas las desviaciones siempre es cero. En efecto, si por ejemplo, los datos están agrupados en k clases"
   ]
  },
  {
   "cell_type": "markdown",
   "metadata": {},
   "source": [
    "* Si Y>0, la distribución es asimétrica positiva o a la derecha.\n",
    "\n",
    "* Si Y<0, la distribución es asimétrica negativa o a la izquierda.\n",
    "\n",
    "* Si la distribución es simétrica, entonces sabemos que Y=0"
   ]
  },
  {
   "cell_type": "code",
   "execution_count": 12,
   "metadata": {},
   "outputs": [
    {
     "data": {
      "text/plain": [
       "-0.1121846689850033"
      ]
     },
     "execution_count": 12,
     "metadata": {},
     "output_type": "execute_result"
    }
   ],
   "source": [
    "import scipy.stats as sp\n",
    "asimetria_fisher = sp.skew(A)\n",
    "asimetria_fisher"
   ]
  },
  {
   "cell_type": "markdown",
   "metadata": {},
   "source": [
    "### Curtosis\n",
    "\n",
    "* = 0 Mesocúrtica Distribución perfecta, asemejada a la distribución normal en forma, no en valores. Está compensado tanto el centro como las colas.\n",
    "\n",
    "* **>** 0 Leptocúrtica Distribución donde se le concentran mucho los datos en el valor central, y apenas tiene cola.\n",
    "\n",
    "* < 0 Platicúrtica Distribución donde hay pocos valores que se concentren respecto al valor central (media) y hay muchos que aparecen hacia las colas, se concentran más en los laterales. Existe valor central, pero también hay mucha presencia de colas directamente en la distribución de nuestros datos."
   ]
  },
  {
   "cell_type": "code",
   "execution_count": 13,
   "metadata": {},
   "outputs": [
    {
     "data": {
      "text/plain": [
       "-1.2410856985687766"
      ]
     },
     "execution_count": 13,
     "metadata": {},
     "output_type": "execute_result"
    }
   ],
   "source": [
    "curtosis = sp.kurtosis(A)\n",
    "curtosis"
   ]
  },
  {
   "cell_type": "markdown",
   "metadata": {},
   "source": [
    "## HISTOGRAMA"
   ]
  },
  {
   "cell_type": "code",
   "execution_count": 14,
   "metadata": {},
   "outputs": [],
   "source": [
    "import matplotlib.pyplot as plt\n",
    "%matplotlib inline"
   ]
  },
  {
   "cell_type": "code",
   "execution_count": 15,
   "metadata": {},
   "outputs": [
    {
     "data": {
      "text/plain": [
       "(array([ 5.,  5.,  6.,  5.,  6.,  6.,  5.,  4.,  7., 11.]),\n",
       " array([ 41., 136., 231., 326., 421., 516., 611., 706., 801., 896., 991.]),\n",
       " <BarContainer object of 10 artists>)"
      ]
     },
     "execution_count": 15,
     "metadata": {},
     "output_type": "execute_result"
    },
    {
     "data": {
      "image/png": "[encoded data removed]",
      "text/plain": [
       "<Figure size 432x288 with 1 Axes>"
      ]
     },
     "metadata": {
      "needs_background": "light"
     },
     "output_type": "display_data"
    }
   ],
   "source": [
    "plt.hist(A)"
   ]
  },
  {
   "cell_type": "code",
   "execution_count": null,
   "metadata": {},
   "outputs": [],
   "source": []
  }
 ],
 "metadata": {
  "kernelspec": {
   "display_name": "Python 3",
   "language": "python",
   "name": "python3"
  },
  "language_info": {
   "codemirror_mode": {
    "name": "ipython",
    "version": 3
   },
   "file_extension": ".py",
   "mimetype": "text/x-python",
   "name": "python",
   "nbconvert_exporter": "python",
   "pygments_lexer": "ipython3",
   "version": "3.8.5"
  }
 },
 "nbformat": 4,
 "nbformat_minor": 4
}
